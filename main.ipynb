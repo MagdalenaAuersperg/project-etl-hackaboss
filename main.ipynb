{
 "cells": [
  {
   "cell_type": "code",
   "execution_count": null,
   "id": "98162110",
   "metadata": {},
   "outputs": [],
   "source": [
    "import requests\n",
    "import json\n",
    "\n",
    "url_covid = \"https://api.covidtracking.com/v1/us/daily.json\"\n",
    "\n",
    "def importar_datos(url):\n",
    "    response = requests.get(url)\n",
    "    if response.status_code == 200:\n",
    "        data = response.json()\n",
    "        print(\"Se ha podido obtener los datos correctamente\")\n",
    "        return data\n",
    "    else:\n",
    "        print(\"No se pudo obtener los datos\")\n",
    "\n",
    "def procesar_datos(datos):\n",
    "    lista_death = []\n",
    "    for dato_diario in datos:\n",
    "        muertes = dato_diario[\"death\"]\n",
    "        if muertes != None:\n",
    "            lista_death.append(muertes)\n",
    "    \n",
    "    return lista_death\n",
    "    \n",
    "\n",
    "    \n",
    "# paso nro 1: Importar datos\n",
    "datos = importar_datos(url=url_covid)\n",
    "\n",
    "# paso nro 2: Procesar datos\n",
    "datos_procesados = procesar_datos(datos)\n",
    "\n",
    "\n",
    "print(len(datos_procesados))\n",
    "\n",
    "print(datos_procesados)"
   ]
  },
  {
   "cell_type": "code",
   "execution_count": null,
   "id": "7d5dceb5",
   "metadata": {},
   "outputs": [],
   "source": [
    "import matplotlib.pyplot as plt\n",
    "import pandas as pd\n",
    "\n",
    "\n",
    "#df = pd.DataFrame()\n",
    "#df = pd.read_csv(filepath_or_buffer = \"https://api.covidtracking.com/v1/us/daily.csv\")\n",
    "url = \"https://api.covidtracking.com/v1/us/daily.json\"\n",
    "df = pd.read_json(url)\n",
    "\n",
    "df[\"date\"] = pd.to_datetime(df[\"date\"], format=\"%Y%m%d\")\n",
    "plt.figure(figsize=(16,8))\n",
    "plt.plot(df['date'], df['death'], label='Muertes acumuladas')\n",
    "plt.plot(df['date'], df['hospitalizedCumulative'], label='Hospitalizaciones acumuladas')\n",
    "plt.title(\"Muertes vs hospitalizaciones acumuladas\")\n",
    "plt.xlabel(\"Fecha\")\n",
    "plt.ylabel(\"Número de personas\")\n",
    "plt.legend()\n",
    "plt.grid()\n",
    "plt.show()"
   ]
  }
 ],
 "metadata": {
  "language_info": {
   "name": "python"
  }
 },
 "nbformat": 4,
 "nbformat_minor": 5
}
